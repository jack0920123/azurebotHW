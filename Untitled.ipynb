{
 "cells": [
  {
   "cell_type": "code",
   "execution_count": 2,
   "metadata": {},
   "outputs": [],
   "source": [
    "import json\n",
    "import requests\n",
    "from azure.cognitiveservices.vision.face import FaceClient\n",
    "from msrest.authentication import CognitiveServicesCredentials\n",
    "KEY = \"e40a649ac55348229e71ae3d3fe4d91a\"\n",
    "ENDPOINT = \"https://jack0920123.cognitiveservices.azure.com/\"\n",
    "face_client = FaceClient(\n",
    "  ENDPOINT, CognitiveServicesCredentials(KEY))"
   ]
  },
  {
   "cell_type": "code",
   "execution_count": 3,
   "metadata": {},
   "outputs": [],
   "source": [
    "PERSON_GROUP_ID = \"cfb10107\"\n",
    "face_client.person_group.create(\n",
    "  person_group_id=PERSON_GROUP_ID, name=PERSON_GROUP_ID)"
   ]
  },
  {
   "cell_type": "code",
   "execution_count": 4,
   "metadata": {},
   "outputs": [],
   "source": [
    "person = face_client.person_group_person.create(\n",
    "  PERSON_GROUP_ID, \"AnLi\")"
   ]
  },
  {
   "cell_type": "code",
   "execution_count": 5,
   "metadata": {},
   "outputs": [
    {
     "data": {
      "text/plain": [
       "<azure.cognitiveservices.vision.face.models._models_py3.PersistedFace at 0x7f5456ac29a0>"
      ]
     },
     "execution_count": 5,
     "metadata": {},
     "output_type": "execute_result"
    }
   ],
   "source": [
    "my_pic = open(\"./img/AnLi.jpg\", 'r+b')\n",
    "face_client.person_group_person.add_face_from_stream(\n",
    "  PERSON_GROUP_ID, person.person_id, my_pic)"
   ]
  },
  {
   "cell_type": "code",
   "execution_count": 8,
   "metadata": {
    "scrolled": true
   },
   "outputs": [
    {
     "name": "stdout",
     "output_type": "stream",
     "text": [
      "Training status: running.\n",
      "Training status: succeeded.\n"
     ]
    }
   ],
   "source": [
    "from azure.cognitiveservices.vision.face.models import TrainingStatusType\n",
    "import time\n",
    "face_client.person_group.train(PERSON_GROUP_ID)\n",
    "\n",
    "while (True):\n",
    "    training_status = face_client.\\\n",
    "    person_group.get_training_status(PERSON_GROUP_ID)\n",
    "    print(\"Training status: {}.\".format(\n",
    "      training_status.status))\n",
    "    if training_status.status is TrainingStatusType.succeeded:\n",
    "        break\n",
    "    elif training_status.status is TrainingStatusType.failed:\n",
    "        sys.exit('Training the person group has failed.')\n",
    "    time.sleep(5)"
   ]
  },
  {
   "cell_type": "code",
   "execution_count": null,
   "metadata": {},
   "outputs": [],
   "source": []
  }
 ],
 "metadata": {
  "kernelspec": {
   "display_name": "Python 3 (ipykernel)",
   "language": "python",
   "name": "python3"
  },
  "language_info": {
   "codemirror_mode": {
    "name": "ipython",
    "version": 3
   },
   "file_extension": ".py",
   "mimetype": "text/x-python",
   "name": "python",
   "nbconvert_exporter": "python",
   "pygments_lexer": "ipython3",
   "version": "3.8.10"
  }
 },
 "nbformat": 4,
 "nbformat_minor": 4
}
